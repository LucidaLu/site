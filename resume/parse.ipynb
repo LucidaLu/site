{
 "cells": [
  {
   "cell_type": "code",
   "execution_count": 54,
   "metadata": {},
   "outputs": [],
   "source": [
    "from liquid import Template\n",
    "import json\n",
    "\n",
    "data = json.load(open(\"../assets/json/resume.json\"))\n"
   ]
  },
  {
   "cell_type": "code",
   "execution_count": 55,
   "metadata": {},
   "outputs": [],
   "source": [
    "def convert(tree, fun):\n",
    "    if isinstance(tree, int):\n",
    "        return tree\n",
    "    if isinstance(tree, str):\n",
    "        return fun(tree)\n",
    "    res = {}\n",
    "    for k, v in tree.items():\n",
    "        if isinstance(v, list):\n",
    "            res[k] = [convert(i, fun) for i in v]\n",
    "        else:\n",
    "            res[k] = convert(v, fun)\n",
    "    return res\n",
    "\n",
    "\n",
    "def md_to_tex(md):\n",
    "    import pypandoc\n",
    "\n",
    "    return pypandoc.convert_text(md, \"latex\", format=\"md\").strip()\n",
    "\n",
    "\n",
    "cv = convert(data, md_to_tex)\n",
    "cv\n",
    "cv[\"basics\"][\"homepage\"] = \"https://\" + cv[\"basics\"][\"homepage\"]"
   ]
  },
  {
   "cell_type": "code",
   "execution_count": 56,
   "metadata": {},
   "outputs": [
    {
     "data": {
      "text/plain": [
       "3556"
      ]
     },
     "execution_count": 56,
     "metadata": {},
     "output_type": "execute_result"
    }
   ],
   "source": [
    "\n",
    "src = open(\"template.tex\").read()\n",
    "template = Template(src)\n",
    "# template = Template(\n",
    "#     \"{% for person in people %}\"\n",
    "#     \"Hello, {ddd} {{ person.name }}!\\n\"\n",
    "#     \"{% endfor %}\"\n",
    "# )\n",
    "open(\"main.tex\",\"w\").write(template.render(**cv))  # Hello, World!"
   ]
  },
  {
   "cell_type": "code",
   "execution_count": null,
   "metadata": {},
   "outputs": [],
   "source": []
  },
  {
   "cell_type": "code",
   "execution_count": null,
   "metadata": {},
   "outputs": [],
   "source": []
  }
 ],
 "metadata": {
  "kernelspec": {
   "display_name": "base",
   "language": "python",
   "name": "python3"
  },
  "language_info": {
   "codemirror_mode": {
    "name": "ipython",
    "version": 3
   },
   "file_extension": ".py",
   "mimetype": "text/x-python",
   "name": "python",
   "nbconvert_exporter": "python",
   "pygments_lexer": "ipython3",
   "version": "3.9.19"
  }
 },
 "nbformat": 4,
 "nbformat_minor": 2
}
